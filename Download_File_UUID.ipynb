{
 "cells": [
  {
   "cell_type": "code",
   "execution_count": 1,
   "metadata": {},
   "outputs": [],
   "source": [
    "import json\n",
    "import os\n",
    "import requests\n",
    "import pandas as pd"
   ]
  },
  {
   "cell_type": "code",
   "execution_count": 2,
   "metadata": {},
   "outputs": [],
   "source": [
    "# Change the input_file_name if needed\n",
    "input_file_name=\"Master.csv\"\n",
    "\n",
    "df = pd.read_csv(input_file_name)\n",
    "\n",
    "file_uuids = df['File_UUID'].to_list()\n",
    "subtype = df['Type'].to_list()"
   ]
  },
  {
   "cell_type": "code",
   "execution_count": 3,
   "metadata": {},
   "outputs": [],
   "source": [
    "def download_file(file_uuid, output_file_path):\n",
    "    data_endpt = f\"https://api.gdc.cancer.gov/data/{file_uuid}\"\n",
    "\n",
    "    try:\n",
    "        response = requests.get(data_endpt, headers = {\"Content-Type\": \"application/json\"})\n",
    "\n",
    "        with open(output_file_path, \"wb\") as output_file:\n",
    "            output_file.write(response.content)\n",
    "\n",
    "        print(f\"File successfully downloaded.\")\n",
    "\n",
    "    \n",
    "    except:\n",
    "        print(f\"Error!!!\")\n",
    "        return"
   ]
  },
  {
   "cell_type": "code",
   "execution_count": null,
   "metadata": {},
   "outputs": [
    {
     "name": "stdout",
     "output_type": "stream",
     "text": [
      "\n",
      "Fetching data for file UUID: 0be77aef-ccad-47a4-bcba-1f550a2c4c6b; Subtype: normal\n",
      "File successfully downloaded.\n",
      "\n",
      "Fetching data for file UUID: 40690050-ac97-481b-ad45-e5e39e797857; Subtype: normal\n",
      "Error!!!\n",
      "\n",
      "Fetching data for file UUID: 9b6a0b2d-b17f-43cf-8889-d7c255d6ebee; Subtype: normal\n"
     ]
    }
   ],
   "source": [
    "\n",
    "for i in subtype:\n",
    "    if not os.path.exists(f\"./Dataset/{i}/\"):\n",
    "        os.makedirs(f\"./Dataset/{i}/\")\n",
    "\n",
    "\n",
    "for i in range(len(file_uuids)):\n",
    "    print(f\"\\nFetching data for file UUID: {file_uuids[i]}; Subtype: {subtype[i]}\")\n",
    "    \n",
    "    download_file(file_uuids[i], f\"./Dataset/{subtype[i]}/{file_uuids[i]}.svs\")"
   ]
  }
 ],
 "metadata": {
  "kernelspec": {
   "display_name": "Python 3",
   "language": "python",
   "name": "python3"
  },
  "language_info": {
   "codemirror_mode": {
    "name": "ipython",
    "version": 3
   },
   "file_extension": ".py",
   "mimetype": "text/x-python",
   "name": "python",
   "nbconvert_exporter": "python",
   "pygments_lexer": "ipython3",
   "version": "3.12.3"
  }
 },
 "nbformat": 4,
 "nbformat_minor": 2
}
