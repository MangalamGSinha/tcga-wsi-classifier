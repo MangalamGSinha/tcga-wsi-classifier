{
 "cells": [
  {
   "cell_type": "code",
   "execution_count": 1,
   "metadata": {},
   "outputs": [],
   "source": [
    "import openslide\n",
    "import os\n",
    "import numpy as np\n",
    "import cv2\n",
    "from PIL import Image\n",
    "\n",
    "def extract_patches(svs_file, file_name,output_dir):\n",
    "    # Set path for the .svs file\n",
    "    #svs_file = \"TCGA-BH-A0HK-01A-01-TSA.baefe9ea-a565-4ec1-92b2-6b62ed9944e3.svs\"\n",
    "    #output_dir = \"output_patches\"\n",
    "\n",
    "    # Create output directory if it doesn't exist\n",
    "    os.makedirs(output_dir, exist_ok=True)\n",
    "\n",
    "    # Open the .svs slide\n",
    "    slide = openslide.OpenSlide(svs_file)\n",
    "\n",
    "    # Get slide properties\n",
    "    slide_width, slide_height = slide.dimensions  # Full resolution size\n",
    "    patch_size = 256  # Patch size (adjust as needed)\n",
    "    stride = 256  # Step size (can be less for overlapping patches)\n",
    "\n",
    "    # Function to check if a patch is mostly background (white > 80% OR black > 80% OR combined > 90%)\n",
    "    def is_background(patch, white_threshold=0.8, black_threshold=0.8, combined_threshold=0.9):\n",
    "        \"\"\"Determines if the patch is mostly background (either white, black, or combined).\"\"\"\n",
    "        # Convert to grayscale\n",
    "        gray_patch = cv2.cvtColor(np.array(patch.convert(\"RGB\")), cv2.COLOR_RGB2GRAY)\n",
    "        \n",
    "        # Count white pixels (intensity > 200)\n",
    "        white_pixels = np.sum(gray_patch > 200) / gray_patch.size\n",
    "\n",
    "        # Count black pixels (intensity < 50)\n",
    "        black_pixels = np.sum(gray_patch < 50) / gray_patch.size\n",
    "\n",
    "        # Discard if:\n",
    "        # 1. White > 80%\n",
    "        # 2. Black > 80%\n",
    "        # 3. (White + Black) > 90% (handles boundary patches with mixed black/white)\n",
    "        return (white_pixels > white_threshold) or (black_pixels > black_threshold) or ((white_pixels + black_pixels) > combined_threshold)\n",
    "\n",
    "    # Extract patches\n",
    "    patch_count = 0\n",
    "    for y in range(0, slide_height, stride):\n",
    "        for x in range(0, slide_width, stride):\n",
    "            patch = slide.read_region((x, y), 0, (patch_size, patch_size)).convert(\"RGB\")\n",
    "            \n",
    "            # Skip mostly background patches\n",
    "            if not is_background(patch):\n",
    "                patch.save(os.path.join(output_dir, f\"{file_name}_patch_{patch_count}.png\"))\n",
    "                patch_count += 1\n",
    "\n",
    "    print(f\"Extracted {patch_count} patches from {svs_file}\")\n"
   ]
  },
  {
   "cell_type": "code",
   "execution_count": 2,
   "metadata": {},
   "outputs": [
    {
     "name": "stdout",
     "output_type": "stream",
     "text": [
      "Extracted 1863 patches from ./Dataset/normal\\0be77aef-ccad-47a4-bcba-1f550a2c4c6b.svs\n",
      "Extracted 1747 patches from ./Dataset/normal\\TCGA-GM-A2D9-11A-01-TS1.79145174-9304-4CDA-8900-9A6A3ACC2B4B.svs\n"
     ]
    }
   ],
   "source": [
    "# Path to the folder\n",
    "folder_path = \"./Dataset/normal\"\n",
    "output_dir = \"./Dataset_patches/normal\"\n",
    "# Loop through all files in the folder\n",
    "for filename in os.listdir(folder_path):\n",
    "    file_path = os.path.join(folder_path, filename)\n",
    "    name_without_ext = os.path.splitext(filename)[0]\n",
    "    processed_image = extract_patches(file_path,name_without_ext,output_dir)"
   ]
  },
  {
   "cell_type": "code",
   "execution_count": 3,
   "metadata": {},
   "outputs": [
    {
     "name": "stdout",
     "output_type": "stream",
     "text": [
      "Extracted 3474 patches from ./Dataset/tumor\\TCGA-A2-A3XV-01A-02-TSB.FF8434E6-B703-43FE-AC0A-AE53131F1EC6.svs\n",
      "Extracted 4592 patches from ./Dataset/tumor\\TCGA-A7-A3IZ-01A-01-TSA.EFEAFBBB-4EED-4894-BAFD-77AAC5783062.svs\n"
     ]
    }
   ],
   "source": [
    "# Path to the folder\n",
    "folder_path = \"./Dataset/tumor\"\n",
    "output_dir = \"./Dataset_patches/tumor\"\n",
    "# Loop through all files in the folder\n",
    "for filename in os.listdir(folder_path):\n",
    "    file_path = os.path.join(folder_path, filename)\n",
    "    name_without_ext = os.path.splitext(filename)[0]\n",
    "    processed_image = extract_patches(file_path,name_without_ext,output_dir)"
   ]
  }
 ],
 "metadata": {
  "kernelspec": {
   "display_name": "Python 3",
   "language": "python",
   "name": "python3"
  },
  "language_info": {
   "codemirror_mode": {
    "name": "ipython",
    "version": 3
   },
   "file_extension": ".py",
   "mimetype": "text/x-python",
   "name": "python",
   "nbconvert_exporter": "python",
   "pygments_lexer": "ipython3",
   "version": "3.12.3"
  }
 },
 "nbformat": 4,
 "nbformat_minor": 2
}
